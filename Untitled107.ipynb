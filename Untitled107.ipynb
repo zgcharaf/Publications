{
  "nbformat": 4,
  "nbformat_minor": 0,
  "metadata": {
    "colab": {
      "provenance": []
    },
    "kernelspec": {
      "name": "python3",
      "display_name": "Python 3"
    },
    "language_info": {
      "name": "python"
    }
  },
  "cells": [
    {
      "cell_type": "code",
      "execution_count": 19,
      "metadata": {
        "id": "HoM-rLBaU4hv"
      },
      "outputs": [],
      "source": [
        "import xlsxwriter\n",
        "import pandas as pd\n",
        "\n",
        "class KPIAggregator:\n",
        "    def __init__(self, mapping_csv):\n",
        "        self.mapping_csv = mapping_csv\n",
        "        self.kpi_data = {}  # Dictionary to store data for each KPI\n",
        "\n",
        "    def read_mapping(self):\n",
        "        \"\"\"Reads the CSV mapping file.\"\"\"\n",
        "        self.mapping = pd.read_csv(self.mapping_csv)\n",
        "        self.kpis = self.mapping.columns[1:]  # Assumes first column is Country\n",
        "\n",
        "    def process_files(self):\n",
        "        \"\"\"Processes each file specified in the mapping CSV.\"\"\"\n",
        "        for _, row in self.mapping.iterrows():\n",
        "            country = row['Country']\n",
        "            for kpi in self.kpis:\n",
        "                file_sheet_info = row[kpi].strip()\n",
        "                # Check if sheet name is provided\n",
        "                if ', ' in file_sheet_info:\n",
        "                    file_path, sheet_name = file_sheet_info.split(', ')\n",
        "                else:\n",
        "                    file_path = file_sheet_info\n",
        "                    sheet_name = kpi  # Default sheet name is the same as the KPI name\n",
        "\n",
        "                df = pd.read_excel(file_path, sheet_name=sheet_name, engine = 'openpyxl')\n",
        "                df['Country'] = country  # Add country column\n",
        "\n",
        "                # Aggregate data by KPI\n",
        "                if kpi in self.kpi_data:\n",
        "                    self.kpi_data[kpi] = pd.concat([self.kpi_data[kpi], df])\n",
        "                else:\n",
        "                    self.kpi_data[kpi] = df\n",
        "\n",
        "    def output_to_excel(self):\n",
        "        \"\"\"Outputs the aggregated data to an Excel file.\"\"\"\n",
        "        writer = pd.ExcelWriter('KPI_Output.xlsx', engine='xlsxwriter')\n",
        "        for kpi, data in self.kpi_data.items():\n",
        "            data.to_excel(writer, sheet_name=kpi[:31], index=False)  # Sheet name truncated to 31 characters (Excel limit)\n",
        "        writer.close()\n",
        "\n",
        "    def run(self):\n",
        "        \"\"\"Runs the data processing pipeline.\"\"\"\n",
        "        self.read_mapping()\n",
        "        self.process_files()\n",
        "        self.output_to_excel()\n"
      ]
    },
    {
      "cell_type": "code",
      "source": [
        "pip install xlsxwriter"
      ],
      "metadata": {
        "colab": {
          "base_uri": "https://localhost:8080/"
        },
        "id": "QPbj5YnJsJYq",
        "outputId": "5e6dd72c-55ca-4a7a-aa97-762e728295bd"
      },
      "execution_count": 16,
      "outputs": [
        {
          "output_type": "stream",
          "name": "stdout",
          "text": [
            "Collecting xlsxwriter\n",
            "  Downloading XlsxWriter-3.2.0-py3-none-any.whl.metadata (2.6 kB)\n",
            "Downloading XlsxWriter-3.2.0-py3-none-any.whl (159 kB)\n",
            "\u001b[?25l   \u001b[90m━━━━━━━━━━━━━━━━━━━━━━━━━━━━━━━━━━━━━━━━\u001b[0m \u001b[32m0.0/159.9 kB\u001b[0m \u001b[31m?\u001b[0m eta \u001b[36m-:--:--\u001b[0m\r\u001b[2K   \u001b[91m━━━━━━━━━━━━━━━━━━━━━━━━━━━━━━━━━━━━━━\u001b[0m\u001b[90m╺\u001b[0m\u001b[90m━\u001b[0m \u001b[32m153.6/159.9 kB\u001b[0m \u001b[31m4.9 MB/s\u001b[0m eta \u001b[36m0:00:01\u001b[0m\r\u001b[2K   \u001b[90m━━━━━━━━━━━━━━━━━━━━━━━━━━━━━━━━━━━━━━━━\u001b[0m \u001b[32m159.9/159.9 kB\u001b[0m \u001b[31m3.2 MB/s\u001b[0m eta \u001b[36m0:00:00\u001b[0m\n",
            "\u001b[?25hInstalling collected packages: xlsxwriter\n",
            "Successfully installed xlsxwriter-3.2.0\n"
          ]
        }
      ]
    },
    {
      "cell_type": "code",
      "source": [
        "KPIAggregator('mapping.csv').run()"
      ],
      "metadata": {
        "id": "6HxtebNPfL5r"
      },
      "execution_count": 20,
      "outputs": []
    },
    {
      "cell_type": "code",
      "source": [
        "i"
      ],
      "metadata": {
        "id": "iSscSit3rami"
      },
      "execution_count": null,
      "outputs": []
    }
  ]
}